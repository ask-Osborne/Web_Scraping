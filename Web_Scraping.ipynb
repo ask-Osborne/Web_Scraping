{
 "cells": [
  {
   "cell_type": "markdown",
   "id": "c8221aad",
   "metadata": {},
   "source": [
    "# Import necessary libraries"
   ]
  },
  {
   "cell_type": "code",
   "execution_count": 3,
   "id": "e042ae2b",
   "metadata": {},
   "outputs": [],
   "source": [
    "\n",
    "from bs4 import BeautifulSoup\n",
    "import requests\n",
    "import wikitextparser as wtp\n",
    "import pandas as pd\n",
    "\n"
   ]
  },
  {
   "cell_type": "markdown",
   "id": "e974c37a",
   "metadata": {},
   "source": [
    "## Define the Wikipedia URL"
   ]
  },
  {
   "cell_type": "code",
   "execution_count": 4,
   "id": "c0b8e34d",
   "metadata": {},
   "outputs": [],
   "source": [
    "\n",
    "url = 'https://en.wikipedia.org/wiki/2022%E2%80%9323_Premier_League'\n"
   ]
  },
  {
   "cell_type": "markdown",
   "id": "6cd9209c",
   "metadata": {},
   "source": [
    "### Make an HTTP request to get the HTML content of the page"
   ]
  },
  {
   "cell_type": "code",
   "execution_count": 9,
   "id": "24823466",
   "metadata": {},
   "outputs": [],
   "source": [
    "page = requests.get(url)\n",
    "# Create a BeautifulSoup object to parse the HTML\n",
    "soup = BeautifulSoup(page.text, 'html.parser')\n",
    " #Display the parsed HTML content (optional, for debugging)\n",
    " #print(soup)"
   ]
  },
  {
   "cell_type": "markdown",
   "id": "4314e6a5",
   "metadata": {},
   "source": [
    "### Find the third table on the Wikipedia page (index 2) containing the desired data"
   ]
  },
  {
   "cell_type": "code",
   "execution_count": 33,
   "id": "3a4094c5",
   "metadata": {},
   "outputs": [],
   "source": [
    "table = soup.find_all('table')[2]\n",
    "# Display the parsed table (optional, for debugging)\n",
    "# print(table)"
   ]
  },
  {
   "cell_type": "markdown",
   "id": "22317ec8",
   "metadata": {},
   "source": [
    " Find all table rows (tr) in the table"
   ]
  },
  {
   "cell_type": "code",
   "execution_count": 32,
   "id": "ad7a79d7",
   "metadata": {},
   "outputs": [],
   "source": [
    "world_titles = table.find_all('tr')\n",
    "# Display the parsed table rows (optional, for debugging)\n",
    "#print(world_titles)"
   ]
  },
  {
   "cell_type": "code",
   "execution_count": 15,
   "id": "98433e34",
   "metadata": {},
   "outputs": [],
   "source": [
    "# Find all table header cells (th) in the table\n",
    "world_titles = table.find_all(['th'])\n",
    "\n",
    "# Extract the text content of each table header and store them in a list\n",
    "world_table_titles = [title.text.strip() for title in world_titles]\n",
    "\n",
    "# Display the extracted table titles (optional, for debugging)\n",
    "# print(world_table_titles)"
   ]
  },
  {
   "cell_type": "markdown",
   "id": "fbcdefdf",
   "metadata": {},
   "source": [
    "### Create an empty DataFrame with columns as the extracted table titles"
   ]
  },
  {
   "cell_type": "code",
   "execution_count": 17,
   "id": "98db227f",
   "metadata": {},
   "outputs": [
    {
     "name": "stdout",
     "output_type": "stream",
     "text": [
      "Empty DataFrame\n",
      "Columns: [Team, Manager, Captain, Kit manufacturer, Shirt sponsor (chest), Shirt sponsor (sleeve)]\n",
      "Index: []\n"
     ]
    }
   ],
   "source": [
    "\n",
    "df = pd.DataFrame(columns=world_table_titles)\n",
    "\n",
    "# Display the empty DataFrame (optional, for debugging)\n",
    "print(df)"
   ]
  },
  {
   "cell_type": "markdown",
   "id": "185fbb32",
   "metadata": {},
   "source": [
    " Find all table rows (tr) in the table excluding the first row (header)"
   ]
  },
  {
   "cell_type": "code",
   "execution_count": null,
   "id": "e7ec521c",
   "metadata": {},
   "outputs": [],
   "source": [
    "column_data = table.find_all('tr')[1:]"
   ]
  },
  {
   "cell_type": "markdown",
   "id": "67e14a83",
   "metadata": {},
   "source": [
    "Iterate through each row and extract the text content of each cell (td)\n"
   ]
  },
  {
   "cell_type": "code",
   "execution_count": null,
   "id": "f8201032",
   "metadata": {},
   "outputs": [],
   "source": [
    "for row in column_data:\n",
    "    row_data = row.find_all('td')\n",
    "    individual_row_data = [data.text.strip() for data in row_data]\n",
    "     # Append the individual row data to the DataFrame\n",
    "    length = len(df)\n",
    "    df.loc[length] = individual_row_data\n"
   ]
  },
  {
   "cell_type": "markdown",
   "id": "2403418c",
   "metadata": {},
   "source": [
    "\n",
    "## Display the final DataFrame with the extracted data"
   ]
  },
  {
   "cell_type": "code",
   "execution_count": 30,
   "id": "3f85c8e9",
   "metadata": {},
   "outputs": [
    {
     "name": "stdout",
     "output_type": "stream",
     "text": [
      "                       Team                  Manager            Captain  \\\n",
      "0                   Arsenal             Mikel Arteta    Martin Ødegaard   \n",
      "1               Aston Villa               Unai Emery        John McGinn   \n",
      "2               Bournemouth              Gary O'Neil               Neto   \n",
      "3                 Brentford             Thomas Frank     Pontus Jansson   \n",
      "4    Brighton & Hove Albion         Roberto De Zerbi         Lewis Dunk   \n",
      "5                   Chelsea  Frank Lampard (interim)  César Azpilicueta   \n",
      "6            Crystal Palace              Roy Hodgson   Luka Milivojević   \n",
      "7                   Everton               Sean Dyche     Séamus Coleman   \n",
      "8                    Fulham              Marco Silva        Tom Cairney   \n",
      "9              Leeds United            Sam Allardyce        Liam Cooper   \n",
      "10           Leicester City               Dean Smith        Jonny Evans   \n",
      "11                Liverpool             Jürgen Klopp   Jordan Henderson   \n",
      "12          Manchester City            Pep Guardiola     İlkay Gündoğan   \n",
      "13        Manchester United             Erik ten Hag      Harry Maguire   \n",
      "14         Newcastle United               Eddie Howe   Jamaal Lascelles   \n",
      "15        Nottingham Forest             Steve Cooper        Joe Worrall   \n",
      "16              Southampton             Rubén Sellés  James Ward-Prowse   \n",
      "17        Tottenham Hotspur     Ryan Mason (interim)        Hugo Lloris   \n",
      "18          West Ham United              David Moyes        Declan Rice   \n",
      "19  Wolverhampton Wanderers          Julen Lopetegui        Rúben Neves   \n",
      "20                  Arsenal             Mikel Arteta    Martin Ødegaard   \n",
      "21              Aston Villa               Unai Emery        John McGinn   \n",
      "22              Bournemouth              Gary O'Neil               Neto   \n",
      "23                Brentford             Thomas Frank     Pontus Jansson   \n",
      "24   Brighton & Hove Albion         Roberto De Zerbi         Lewis Dunk   \n",
      "25                  Chelsea  Frank Lampard (interim)  César Azpilicueta   \n",
      "26           Crystal Palace              Roy Hodgson   Luka Milivojević   \n",
      "27                  Everton               Sean Dyche     Séamus Coleman   \n",
      "28                   Fulham              Marco Silva        Tom Cairney   \n",
      "29             Leeds United            Sam Allardyce        Liam Cooper   \n",
      "30           Leicester City               Dean Smith        Jonny Evans   \n",
      "31                Liverpool             Jürgen Klopp   Jordan Henderson   \n",
      "32          Manchester City            Pep Guardiola     İlkay Gündoğan   \n",
      "33        Manchester United             Erik ten Hag      Harry Maguire   \n",
      "34         Newcastle United               Eddie Howe   Jamaal Lascelles   \n",
      "35        Nottingham Forest             Steve Cooper        Joe Worrall   \n",
      "36              Southampton             Rubén Sellés  James Ward-Prowse   \n",
      "37        Tottenham Hotspur     Ryan Mason (interim)        Hugo Lloris   \n",
      "38          West Ham United              David Moyes        Declan Rice   \n",
      "39  Wolverhampton Wanderers          Julen Lopetegui        Rúben Neves   \n",
      "\n",
      "   Kit manufacturer   Shirt sponsor (chest) Shirt sponsor (sleeve)  \n",
      "0        Adidas[31]            Emirates[32]       Visit Rwanda[33]  \n",
      "1       Castore[34]               Cazoo[35]      Kaiyun Sports[36]  \n",
      "2         Umbro[37]             Dafabet[38]             DeWalt[39]  \n",
      "3         Umbro[40]       Hollywoodbets[41]      Safetyculture[42]  \n",
      "4          Nike[43]    American Express[43]     SnickersUK.com[44]  \n",
      "5          Nike[45]               Three[46]           WhaleFin[47]  \n",
      "6        Macron[48]               Cinch[49]             Mukuru[50]  \n",
      "7        Hummel[51]           Stake.com[52]               BOXT[53]  \n",
      "8        Adidas[54]                 W88[55]       World Mobile[56]  \n",
      "9        Adidas[57]              SBOTOP[58]               Wish[59]  \n",
      "10       Adidas[60]                 FBS[61]         Bia Saigon[62]  \n",
      "11         Nike[63]  Standard Chartered[64]            Expedia[65]  \n",
      "12         Puma[66]      Etihad Airways[67]         Nexen Tire[68]  \n",
      "13       Adidas[69]          TeamViewer[70]     DXC Technology[71]  \n",
      "14      Castore[72]               FUN88[73]           noon.com[74]  \n",
      "15       Macron[75]              UNHCR[76]1                   None  \n",
      "16       Hummel[77]        Sportsbet.io[78]          JD Sports[79]  \n",
      "17         Nike[80]                 AIA[81]              Cinch[82]  \n",
      "18        Umbro[83]              Betway[84]      Scope Markets[85]  \n",
      "19      Castore[86]            AstroPay[87]              12BET[88]  \n",
      "20       Adidas[31]            Emirates[32]       Visit Rwanda[33]  \n",
      "21      Castore[34]               Cazoo[35]      Kaiyun Sports[36]  \n",
      "22        Umbro[37]             Dafabet[38]             DeWalt[39]  \n",
      "23        Umbro[40]       Hollywoodbets[41]      Safetyculture[42]  \n",
      "24         Nike[43]    American Express[43]     SnickersUK.com[44]  \n",
      "25         Nike[45]               Three[46]           WhaleFin[47]  \n",
      "26       Macron[48]               Cinch[49]             Mukuru[50]  \n",
      "27       Hummel[51]           Stake.com[52]               BOXT[53]  \n",
      "28       Adidas[54]                 W88[55]       World Mobile[56]  \n",
      "29       Adidas[57]              SBOTOP[58]               Wish[59]  \n",
      "30       Adidas[60]                 FBS[61]         Bia Saigon[62]  \n",
      "31         Nike[63]  Standard Chartered[64]            Expedia[65]  \n",
      "32         Puma[66]      Etihad Airways[67]         Nexen Tire[68]  \n",
      "33       Adidas[69]          TeamViewer[70]     DXC Technology[71]  \n",
      "34      Castore[72]               FUN88[73]           noon.com[74]  \n",
      "35       Macron[75]              UNHCR[76]1                   None  \n",
      "36       Hummel[77]        Sportsbet.io[78]          JD Sports[79]  \n",
      "37         Nike[80]                 AIA[81]              Cinch[82]  \n",
      "38        Umbro[83]              Betway[84]      Scope Markets[85]  \n",
      "39      Castore[86]            AstroPay[87]              12BET[88]  \n"
     ]
    }
   ],
   "source": [
    "print(df)"
   ]
  },
  {
   "cell_type": "markdown",
   "id": "9b683fc1",
   "metadata": {},
   "source": [
    "## Save the DataFrame as a CSV file"
   ]
  },
  {
   "cell_type": "code",
   "execution_count": 31,
   "id": "0d5427c0",
   "metadata": {},
   "outputs": [],
   "source": [
    "\n",
    "df.to_csv(r'C:\\Users\\new user\\OneDrive\\Desktop\\Talusba\\Python\\Web_Scrapping.csv', index=False)"
   ]
  }
 ],
 "metadata": {
  "kernelspec": {
   "display_name": "Python 3 (ipykernel)",
   "language": "python",
   "name": "python3"
  },
  "language_info": {
   "codemirror_mode": {
    "name": "ipython",
    "version": 3
   },
   "file_extension": ".py",
   "mimetype": "text/x-python",
   "name": "python",
   "nbconvert_exporter": "python",
   "pygments_lexer": "ipython3",
   "version": "3.11.5"
  }
 },
 "nbformat": 4,
 "nbformat_minor": 5
}
